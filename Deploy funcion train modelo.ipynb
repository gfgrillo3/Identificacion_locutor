{
 "cells": [
  {
   "cell_type": "markdown",
   "metadata": {},
   "source": [
    "# Imports"
   ]
  },
  {
   "cell_type": "code",
   "execution_count": 1,
   "metadata": {},
   "outputs": [],
   "source": [
    "from ibm_watson_machine_learning import APIClient"
   ]
  },
  {
   "cell_type": "markdown",
   "metadata": {},
   "source": [
    "# "
   ]
  },
  {
   "cell_type": "markdown",
   "metadata": {},
   "source": [
    "# Credenciales"
   ]
  },
  {
   "cell_type": "code",
   "execution_count": 2,
   "metadata": {},
   "outputs": [],
   "source": [
    "#Credenciales de acceso al deploy\n",
    "\n",
    "wml_credentials = {\n",
    "    \"apikey\":\"API_KEY_VALUE\",\n",
    "    \"url\":\"https://us-south.ml.cloud.ibm.com\"\n",
    "}\n"
   ]
  },
  {
   "cell_type": "markdown",
   "metadata": {},
   "source": [
    "# "
   ]
  },
  {
   "cell_type": "markdown",
   "metadata": {},
   "source": [
    "# Seteamos el cliente y el espacio al que deployamos"
   ]
  },
  {
   "cell_type": "code",
   "execution_count": null,
   "metadata": {},
   "outputs": [],
   "source": [
    "#creamos el cliente de ML\n",
    "\n",
    "wml_client = APIClient(wml_credentials)\n",
    "\n",
    "wml_client.spaces.list()\n"
   ]
  },
  {
   "cell_type": "code",
   "execution_count": 4,
   "metadata": {},
   "outputs": [
    {
     "data": {
      "text/plain": [
       "'SUCCESS'"
      ]
     },
     "execution_count": 4,
     "metadata": {},
     "output_type": "execute_result"
    }
   ],
   "source": [
    "#Guardamos el ID del espacio donde se desplegará el modelo y lo seteamos como default\n",
    "\n",
    "SPACE_ID = \"SPACE_ID\"\n",
    "\n",
    "wml_client.set.default_space(SPACE_ID)"
   ]
  },
  {
   "cell_type": "markdown",
   "metadata": {},
   "source": [
    "# "
   ]
  },
  {
   "cell_type": "markdown",
   "metadata": {},
   "source": [
    "# Funcion a  deployar"
   ]
  },
  {
   "cell_type": "code",
   "execution_count": 5,
   "metadata": {},
   "outputs": [],
   "source": [
    "def deployable_callable():\n",
    "    \"\"\"\n",
    "    Función de python deployable que entrena un modelo para un usuario determinado\n",
    "    \"\"\"\n",
    "    \n",
    "    #Primero hacemos imports y seteamos configuracion inicial\n",
    "    \n",
    "    import ibm_boto3\n",
    "    from botocore.client import Config\n",
    "    import requests\n",
    "    \n",
    "    \n",
    "    api_key = 'API_KEY_VALUE'\n",
    "\n",
    "    project_id = '821deb35-d3d9-4a8d-a5e7-b1823688b22f'\n",
    "\n",
    "    job_id = '2fdeecb0-524f-4f9d-8a47-c3c9c1df3bb4'\n",
    "        \n",
    "    \n",
    "    \n",
    "    \n",
    "    ##############################################################################################################################\n",
    "    ##############################################################################################################################\n",
    "    ##############################################################################################################################\n",
    "    \n",
    "    def get_bearer_access_token(api_key):\n",
    "        \"\"\"\n",
    "        Funcion que utilizando la api key del usuario, obtiene el bearer token que permite ejecutar un job\n",
    "        \"\"\"\n",
    "\n",
    "        headers = {'Content-Type': 'application/x-www-form-urlencoded',}\n",
    "\n",
    "        data = 'grant_type=urn:ibm:params:oauth:grant-type:apikey&apikey='+api_key\n",
    "\n",
    "        response = requests.post('https://iam.cloud.ibm.com/identity/token', headers=headers, data=data)\n",
    "\n",
    "        access_token = response.json()['access_token']\n",
    "\n",
    "        return access_token\n",
    "        \n",
    "    ##############################################################################################################################\n",
    "    ##############################################################################################################################\n",
    "    ##############################################################################################################################    \n",
    "    \n",
    "    def execute_job(access_token, project_id, job_id):\n",
    "        \"\"\"\n",
    "        Funcion que recibe un access_token, un job_id y un project_id, y ejecuta el job recibido como parámetro\n",
    "        \"\"\"\n",
    "        headers = {\n",
    "            'accept': 'application/json',\n",
    "            'Authorization': 'Bearer '+access_token,\n",
    "        }\n",
    "\n",
    "        params = {\n",
    "            'project_id': project_id,\n",
    "            'userfs': 'false',\n",
    "        }\n",
    "\n",
    "        json_data = {\n",
    "            'job_run': {\n",
    "                'name': 'Name',\n",
    "                'description': 'Description',\n",
    "                'configuration': {\n",
    "                    'env_variables': [\n",
    "                        'key1=value1',\n",
    "                        'key2=value2',\n",
    "                    ],\n",
    "                },\n",
    "                'job_parameters': [\n",
    "                    {\n",
    "                        'name': 'job_param_1',\n",
    "                        'value': 'The value could be of any type',\n",
    "                    },\n",
    "                ],\n",
    "                'parameter_sets': [\n",
    "                    {\n",
    "                        'name': 'paramset_1',\n",
    "                        'value_set': 'red',\n",
    "                        'ref': '31abfd90-5497-4605-8ac1-d85896fe6c6f',\n",
    "                    },\n",
    "                ],\n",
    "            },\n",
    "        }\n",
    "\n",
    "\n",
    "\n",
    "        run_job_api_url = 'https://api.dataplatform.cloud.ibm.com/v2/jobs/'+job_id+'/runs'\n",
    "\n",
    "        response = requests.post(run_job_api_url, params=params, headers=headers, json=json_data)\n",
    "\n",
    "        return response.status_code\n",
    "        \n",
    "    ##############################################################################################################################\n",
    "    ##############################################################################################################################\n",
    "    ##############################################################################################################################           \n",
    "    \n",
    "    def guardar_archivo(user_to_train):\n",
    "        \"\"\"\n",
    "        Funcion que guarda el usuario a entrenar en un txt para que luego el modelo lo levante\n",
    "        \"\"\"\n",
    "    \n",
    "        bucket = 'pruebasgian-donotdelete-pr-3aeebt0ewfpjpi'\n",
    "\n",
    "        cos = ibm_boto3.client(service_name='s3',\n",
    "                                  ibm_api_key_id='IBM_API_KEY_ID',\n",
    "                                  ibm_auth_endpoint=\"https://iam.cloud.ibm.com/oidc/token\",\n",
    "                                  config=Config(signature_version='oauth'),\n",
    "                                  endpoint_url='https://s3.private.us.cloud-object-storage.appdomain.cloud')\n",
    "\n",
    "        filename = \"user_to_train.txt\"\n",
    "\n",
    "        with open(filename, 'wb+') as z:\n",
    "\n",
    "            response = cos.put_object(Body=user_to_train,\n",
    "                                      Bucket=bucket,\n",
    "                                      Key=filename\n",
    "                                     )\n",
    "\n",
    "        return response['ResponseMetadata']['HTTPStatusCode']\n",
    "        \n",
    "    ##############################################################################################################################\n",
    "    ##############################################################################################################################\n",
    "    ##############################################################################################################################      \n",
    "    \n",
    "\n",
    "    def score(payload):\n",
    "        \"\"\"\n",
    "        Train and create model method.\n",
    "        \n",
    "        \"\"\"\n",
    "        \n",
    "               \n",
    "        try:\n",
    "        \n",
    "            user_to_train = payload['input_data'][0]['values']\n",
    "\n",
    "\n",
    "            status_guardado_archivo = guardar_archivo(user_to_train)\n",
    "    \n",
    "            if status_guardado_archivo != 200:\n",
    "            \n",
    "                return {'predictions': [{'values': \"Error when saving the text name file to train the model for \"+user_to_train+\". Please check the logs and try in a few moments!\"}]}\n",
    "            \n",
    "                \n",
    "            \n",
    "            access_token = get_bearer_access_token(api_key)\n",
    "            \n",
    "            status_code_execution = execute_job(access_token, project_id, job_id)\n",
    "            \n",
    "            if status_code_execution==201:\n",
    "                return {'predictions': [{'values': \"Training Model for \"+user_to_train+\"!\"}]}\n",
    "            \n",
    "            return {'predictions': [{'values': \"Error when trying to train the model for \"+user_to_train+\". Please check the logs and try in a few moments!\"}]}\n",
    "        \n",
    "        \n",
    "        except Exception as e:\n",
    "            return {'predictions': [{'values': \"Error when trying to train the model for \"+user_to_train+\". Please check the logs and try in a few moments!\"}]}\n",
    "        \n",
    "    return score"
   ]
  },
  {
   "cell_type": "code",
   "execution_count": 6,
   "metadata": {},
   "outputs": [
    {
     "name": "stdout",
     "output_type": "stream",
     "text": [
      "Training Model for gian.grillo!\n"
     ]
    }
   ],
   "source": [
    "#Test de la función creada para deployar\n",
    "\n",
    "function_test = deployable_callable()({\n",
    "    \"input_data\": [{\n",
    "        'values': \"gian.grillo\"\n",
    "    }]\n",
    "})\n",
    "\n",
    "print(function_test[\"predictions\"][0][\"values\"])"
   ]
  },
  {
   "cell_type": "markdown",
   "metadata": {},
   "source": [
    "# "
   ]
  },
  {
   "cell_type": "markdown",
   "metadata": {},
   "source": [
    "# Configuramos el entorno al que deployamos"
   ]
  },
  {
   "cell_type": "code",
   "execution_count": 7,
   "metadata": {},
   "outputs": [],
   "source": [
    "base_sw_spec_uid = wml_client.software_specifications.get_uid_by_name(\"runtime-22.1-py3.9\")"
   ]
  },
  {
   "cell_type": "code",
   "execution_count": 8,
   "metadata": {},
   "outputs": [],
   "source": [
    "meta_props = {\n",
    "    wml_client.repository.FunctionMetaNames.NAME: \"Train model function\",\n",
    "    wml_client.repository.FunctionMetaNames.SOFTWARE_SPEC_UID: base_sw_spec_uid\n",
    "}\n",
    "\n",
    "function_details = wml_client.repository.store_function(meta_props=meta_props, function=deployable_callable)\n",
    "function_uid = wml_client.repository.get_function_uid(function_details)"
   ]
  },
  {
   "cell_type": "code",
   "execution_count": 9,
   "metadata": {},
   "outputs": [
    {
     "data": {
      "text/plain": [
       "{'entity': {'software_spec': {'id': '12b83a17-24d8-5082-900f-0ab31fbfd3cb',\n",
       "   'name': 'runtime-22.1-py3.9'},\n",
       "  'type': 'python'},\n",
       " 'metadata': {'created_at': '2022-10-15T22:02:17.456Z',\n",
       "  'id': '6d2ede50-785f-4bb1-9357-9dcea4226a7d',\n",
       "  'modified_at': '2022-10-15T22:02:19.848Z',\n",
       "  'name': 'Train model function',\n",
       "  'owner': 'IBMid-6650007T1K',\n",
       "  'space_id': '8a50bf52-17ff-401d-a128-7502ce8436f4'},\n",
       " 'system': {'warnings': []}}"
      ]
     },
     "execution_count": 9,
     "metadata": {},
     "output_type": "execute_result"
    }
   ],
   "source": [
    "wml_client.repository.get_details(function_uid)"
   ]
  },
  {
   "cell_type": "code",
   "execution_count": 10,
   "metadata": {},
   "outputs": [
    {
     "name": "stdout",
     "output_type": "stream",
     "text": [
      "------------------------------------  --------------------  ------------------------  ------\n",
      "GUID                                  NAME                  CREATED                   TYPE\n",
      "6d2ede50-785f-4bb1-9357-9dcea4226a7d  Train model function  2022-10-15T22:02:17.002Z  python\n",
      "fb5b9ce5-55ca-4392-b21c-d81a49847ab6  Train model function  2022-10-15T22:00:25.002Z  python\n",
      "6d28a0c3-af01-45db-963f-f73e31e54527  Train model function  2022-10-15T21:34:22.002Z  python\n",
      "------------------------------------  --------------------  ------------------------  ------\n"
     ]
    }
   ],
   "source": [
    "wml_client.repository.list_functions()"
   ]
  },
  {
   "cell_type": "markdown",
   "metadata": {},
   "source": [
    "# "
   ]
  },
  {
   "cell_type": "markdown",
   "metadata": {},
   "source": [
    "# Hacemos el Deploy"
   ]
  },
  {
   "cell_type": "code",
   "execution_count": 11,
   "metadata": {
    "scrolled": false
   },
   "outputs": [
    {
     "name": "stdout",
     "output_type": "stream",
     "text": [
      "\n",
      "\n",
      "#######################################################################################\n",
      "\n",
      "Synchronous deployment creation for uid: '6d2ede50-785f-4bb1-9357-9dcea4226a7d' started\n",
      "\n",
      "#######################################################################################\n",
      "\n",
      "\n",
      "initializing\n",
      "Note: online_url is deprecated and will be removed in a future release. Use serving_urls instead.\n",
      "..\n",
      "ready\n",
      "\n",
      "\n",
      "------------------------------------------------------------------------------------------------\n",
      "Successfully finished deployment creation, deployment_uid='b46d225b-7b39-42fb-a219-e6bb74c7464f'\n",
      "------------------------------------------------------------------------------------------------\n",
      "\n",
      "\n"
     ]
    }
   ],
   "source": [
    "metadata = {\n",
    "    wml_client.deployments.ConfigurationMetaNames.NAME: \"Deployment of Train model function\",\n",
    "    wml_client.deployments.ConfigurationMetaNames.ONLINE: {}\n",
    "}\n",
    "\n",
    "function_deployment = wml_client.deployments.create(function_uid, meta_props=metadata)"
   ]
  },
  {
   "cell_type": "code",
   "execution_count": 12,
   "metadata": {
    "scrolled": true
   },
   "outputs": [
    {
     "name": "stdout",
     "output_type": "stream",
     "text": [
      "------------------------------------  ----------------------------------  -----  ------------------------\n",
      "GUID                                  NAME                                STATE  CREATED\n",
      "b46d225b-7b39-42fb-a219-e6bb74c7464f  Deployment of Train model function  ready  2022-10-15T22:02:23.437Z\n",
      "------------------------------------  ----------------------------------  -----  ------------------------\n"
     ]
    }
   ],
   "source": [
    "wml_client.deployments.list()"
   ]
  },
  {
   "cell_type": "markdown",
   "metadata": {},
   "source": [
    "# "
   ]
  },
  {
   "cell_type": "markdown",
   "metadata": {},
   "source": [
    "# Probamos la función deployada"
   ]
  },
  {
   "cell_type": "code",
   "execution_count": 13,
   "metadata": {},
   "outputs": [],
   "source": [
    "deployment_id = wml_client.deployments.get_uid(function_deployment)\n"
   ]
  },
  {
   "cell_type": "code",
   "execution_count": 14,
   "metadata": {},
   "outputs": [],
   "source": [
    "scoring_payload = {\n",
    "    \"input_data\": [{\n",
    "        'values': \"gian.grillo\"\n",
    "    }]\n",
    "}\n",
    "\n",
    "predictions = wml_client.deployments.score(deployment_id, scoring_payload)\n"
   ]
  },
  {
   "cell_type": "code",
   "execution_count": 16,
   "metadata": {},
   "outputs": [
    {
     "data": {
      "text/plain": [
       "{'predictions': [{'values': 'Training Model for gian.grillo!'}]}"
      ]
     },
     "execution_count": 16,
     "metadata": {},
     "output_type": "execute_result"
    }
   ],
   "source": [
    "predictions"
   ]
  }
 ],
 "metadata": {
  "kernelspec": {
   "display_name": "Python 3",
   "language": "python",
   "name": "python3"
  },
  "language_info": {
   "codemirror_mode": {
    "name": "ipython",
    "version": 3
   },
   "file_extension": ".py",
   "mimetype": "text/x-python",
   "name": "python",
   "nbconvert_exporter": "python",
   "pygments_lexer": "ipython3",
   "version": "3.7.7"
  }
 },
 "nbformat": 4,
 "nbformat_minor": 1
}
